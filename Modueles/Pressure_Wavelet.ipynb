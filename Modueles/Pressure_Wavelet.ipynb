{
 "cells": [
  {
   "cell_type": "code",
   "execution_count": 32,
   "metadata": {},
   "outputs": [],
   "source": [
    "import numpy as np\n",
    "from scipy.fft import fft, fftfreq\n",
    "import os"
   ]
  },
  {
   "cell_type": "code",
   "execution_count": 33,
   "metadata": {},
   "outputs": [],
   "source": [
    "loc = '/home/saumya/Documents/Schileren_wavelet/Schlieren-Data/Q200-p09/'\n",
    "file_name = '011-pq.xlsx'\n",
    "sampling_rate = 10000"
   ]
  },
  {
   "cell_type": "code",
   "execution_count": 34,
   "metadata": {},
   "outputs": [],
   "source": [
    "import pandas as pd\n",
    "import matplotlib.pyplot as plt"
   ]
  },
  {
   "cell_type": "code",
   "execution_count": 35,
   "metadata": {},
   "outputs": [],
   "source": [
    "files = pd.read_excel(loc+file_name)"
   ]
  },
  {
   "cell_type": "code",
   "execution_count": 36,
   "metadata": {},
   "outputs": [],
   "source": [
    "dat = files.to_numpy()"
   ]
  },
  {
   "cell_type": "code",
   "execution_count": 37,
   "metadata": {},
   "outputs": [],
   "source": [
    "sig = dat[:,1]"
   ]
  },
  {
   "cell_type": "code",
   "execution_count": 38,
   "metadata": {},
   "outputs": [],
   "source": [
    "import pywt \n",
    "\n",
    "\n",
    "\n",
    "fs = sampling_rate\n",
    "sampling_period = 1/fs\n",
    "t = np.linspace(0, sig.shape[0], sig.shape[0])\n",
    "t = t/fs\n",
    "\n",
    "wavelet = 'morl'\n",
    "scale = np.arange(1, 200)\n",
    "\n",
    "\n",
    "f = pywt.scale2frequency(wavelet, scale)/sampling_period \n",
    "\n",
    "coef, freqs = pywt.cwt(sig, scale, wavelet=wavelet,\n",
    "                       sampling_period=sampling_period)\n",
    "\n",
    "\n",
    "\n",
    "# Show w.r.t. time and frequency\n",
    "plt.figure(figsize=(5, 2))\n",
    "neg = plt.pcolor(t, freqs, abs(coef), cmap='inferno')\n",
    "plt.colorbar(neg)\n",
    "# Set yscale, ylim and labels\n",
    "# plt.yscale('log')\n",
    "plt.ylim([1, 500])\n",
    "plt.ylabel('Frequency (Hz)')\n",
    "plt.xlabel('Time (sec)')\n",
    "# plt.savefig('egg_german.png', dpi=150)"
   ]
  }
 ],
 "metadata": {
  "kernelspec": {
   "display_name": "tf2",
   "language": "python",
   "name": "python3"
  },
  "language_info": {
   "codemirror_mode": {
    "name": "ipython",
    "version": 3
   },
   "file_extension": ".py",
   "mimetype": "text/x-python",
   "name": "python",
   "nbconvert_exporter": "python",
   "pygments_lexer": "ipython3",
   "version": "3.9.18"
  }
 },
 "nbformat": 4,
 "nbformat_minor": 2
}
