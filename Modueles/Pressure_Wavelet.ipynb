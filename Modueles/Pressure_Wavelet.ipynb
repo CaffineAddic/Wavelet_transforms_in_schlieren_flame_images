{
 "cells": [
  {
   "cell_type": "code",
   "execution_count": 18,
   "metadata": {},
   "outputs": [],
   "source": [
    "import numpy as np\n",
    "from scipy.fft import fft, fftfreq\n",
    "import os"
   ]
  },
  {
   "cell_type": "code",
   "execution_count": 19,
   "metadata": {},
   "outputs": [],
   "source": [
    "loc = '/home/saumya/Documents/Flame-diagonis-Dip/Schlieren-Data/Q200-p09/'\n",
    "file_name = '008-pq.xlsx'\n",
    "sampling_rate = 2000"
   ]
  },
  {
   "cell_type": "code",
   "execution_count": 20,
   "metadata": {},
   "outputs": [],
   "source": [
    "import pandas as pd\n",
    "import matplotlib.pyplot as plt"
   ]
  },
  {
   "cell_type": "code",
   "execution_count": 21,
   "metadata": {},
   "outputs": [],
   "source": [
    "files = pd.read_excel(loc+file_name)"
   ]
  },
  {
   "cell_type": "code",
   "execution_count": 22,
   "metadata": {},
   "outputs": [],
   "source": [
    "dat = files.to_numpy()"
   ]
  },
  {
   "cell_type": "code",
   "execution_count": 23,
   "metadata": {},
   "outputs": [],
   "source": [
    "sig = dat[:,1]"
   ]
  },
  {
   "cell_type": "code",
   "execution_count": 24,
   "metadata": {},
   "outputs": [
    {
     "data": {
      "text/plain": [
       "(200000,)"
      ]
     },
     "execution_count": 24,
     "metadata": {},
     "output_type": "execute_result"
    }
   ],
   "source": [
    "sig.shape"
   ]
  },
  {
   "cell_type": "code",
   "execution_count": 25,
   "metadata": {},
   "outputs": [],
   "source": [
    "n = sig.shape[0] # Number of data points\n",
    "frequencies = np.fft.fftfreq(n, d=1/sampling_rate)\n",
    "frequencies_no_cutoff = np.fft.fftfreq(n, d= 1/sampling_rate)"
   ]
  },
  {
   "cell_type": "code",
   "execution_count": 26,
   "metadata": {},
   "outputs": [
    {
     "data": {
      "text/plain": [
       "200000"
      ]
     },
     "execution_count": 26,
     "metadata": {},
     "output_type": "execute_result"
    }
   ],
   "source": [
    "sig.shape[0]"
   ]
  },
  {
   "cell_type": "code",
   "execution_count": 28,
   "metadata": {},
   "outputs": [],
   "source": [
    "from scipy.fft import fft, fftfreq\n",
    "fft_sig = np.zeros_like(sig).astype(np.complex64)\n",
    "# fft_sig_median = np.zeros_like(median).astype(np.complex64)\n",
    "# fft_freq = np.zeros_like(mean).astype(np.complex64)\n",
    "# for i in range(sig.shape[0]):\n",
    "    # for j in range(mean.shape[2]):\n",
    "fft_sig = fft(sig)"
   ]
  },
  {
   "cell_type": "code",
   "execution_count": 31,
   "metadata": {},
   "outputs": [
    {
     "name": "stderr",
     "output_type": "stream",
     "text": [
      "/home/saumya/miniconda3/envs/tf/lib/python3.9/site-packages/matplotlib/cbook.py:1699: ComplexWarning: Casting complex values to real discards the imaginary part\n",
      "  return math.isfinite(val)\n",
      "/home/saumya/miniconda3/envs/tf/lib/python3.9/site-packages/matplotlib/cbook.py:1345: ComplexWarning: Casting complex values to real discards the imaginary part\n",
      "  return np.asarray(x, float)\n"
     ]
    },
    {
     "data": {
      "text/plain": [
       "(0.0, 500.0)"
      ]
     },
     "execution_count": 31,
     "metadata": {},
     "output_type": "execute_result"
    },
    {
     "data": {
      "image/png": "[encoded data removed]",
      "text/plain": [
       "<Figure size 640x480 with 1 Axes>"
      ]
     },
     "metadata": {},
     "output_type": "display_data"
    }
   ],
   "source": [
    "plt.plot(frequencies, fft_sig)\n",
    "plt.xlim(0, 500)"
   ]
  },
  {
   "cell_type": "code",
   "execution_count": null,
   "metadata": {},
   "outputs": [],
   "source": [
    "# import pywt \n",
    "\n",
    "\n",
    "\n",
    "# fs = sampling_rate\n",
    "# sampling_period = 1/fs\n",
    "# t = np.linspace(0, sig.shape[0], sig.shape[0])\n",
    "# t = t/fs\n",
    "\n",
    "# wavelet = 'morl'\n",
    "# scale = np.arange(1, 50)\n",
    "\n",
    "\n",
    "# f = pywt.scale2frequency(wavelet, scale)/sampling_period \n",
    "\n",
    "# coef, freqs = pywt.cwt(sig, scale, wavelet=wavelet,\n",
    "#                        sampling_period=sampling_period)\n",
    "\n",
    "\n",
    "\n",
    "# # Show w.r.t. time and frequency\n",
    "# plt.figure(figsize=(5, 2))\n",
    "# neg = plt.pcolor(t, freqs, abs(coef), cmap='inferno')\n",
    "# plt.colorbar(neg)\n",
    "# # Set yscale, ylim and labels\n",
    "# # plt.yscale('log')\n",
    "# plt.ylim([1, 1000])\n",
    "# plt.clim(0,100000) \n",
    "# plt.ylabel('Frequency (Hz)')\n",
    "# plt.xlabel('Time (sec)')\n",
    "# # plt.savefig('egg_german.png', dpi=150)"
   ]
  },
  {
   "cell_type": "code",
   "execution_count": null,
   "metadata": {},
   "outputs": [],
   "source": []
  }
 ],
 "metadata": {
  "kernelspec": {
   "display_name": "tf2",
   "language": "python",
   "name": "python3"
  },
  "language_info": {
   "codemirror_mode": {
    "name": "ipython",
    "version": 3
   },
   "file_extension": ".py",
   "mimetype": "text/x-python",
   "name": "python",
   "nbconvert_exporter": "python",
   "pygments_lexer": "ipython3",
   "version": "3.9.18"
  }
 },
 "nbformat": 4,
 "nbformat_minor": 2
}
